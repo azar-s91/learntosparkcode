{
 "cells": [
  {
   "cell_type": "markdown",
   "metadata": {
    "application/vnd.databricks.v1+cell": {
     "cellMetadata": {
      "byteLimit": 2048000,
      "rowLimit": 10000
     },
     "inputWidgets": {},
     "nuid": "e0370239-930d-4192-b907-dcd52fc7f223",
     "showTitle": false,
     "tableResultSettingsMap": {},
     "title": ""
    }
   },
   "source": [
    "\n",
    "# <span style=\"color:Blue\"> Apache Spark - Handle Key Value in Complex JSON </span>\n",
    "######\n",
    "## Discuss on Couple of Approach\n",
    "#\n",
    "\n",
    "    - Method 1: Simple Straight Forward Method\n",
    "    - Method 2: Optimized method to get results faster\n",
    "\n",
    "## Understand the optimized way to get results"
   ]
  },
  {
   "cell_type": "code",
   "execution_count": 0,
   "metadata": {
    "application/vnd.databricks.v1+cell": {
     "cellMetadata": {
      "byteLimit": 2048000,
      "rowLimit": 10000
     },
     "inputWidgets": {},
     "nuid": "dbc56f1f-4cbc-44f1-aca2-544340ec1e51",
     "showTitle": true,
     "tableResultSettingsMap": {},
     "title": "Sample Source Dataset"
    }
   },
   "outputs": [
    {
     "output_type": "stream",
     "name": "stdout",
     "output_type": "stream",
     "text": [
      "Out[1]: {'name': 'Sivakumar',\n 'grade': 'high school',\n 'marks': [{'key': 'computer', 'value': 69},\n  {'key': 'English', 'value': 64},\n  {'key': 'Maths', 'value': 90}]}"
     ]
    }
   ],
   "source": [
    "{\n",
    "  \"name\":\"azarudeen\",\n",
    "  \"grade\":\"high school\",\n",
    "  \"marks\":[\n",
    "    { \"key\":\"Science\", \"value\":88 },\n",
    "    { \"key\":\"English\", \"value\":74 },\n",
    "    { \"key\":\"Maths\", \"value\":100  }\n",
    "  ]\n",
    "}\n",
    "{\n",
    "  \"name\":\"karthick\",  \n",
    "  \"grade\":\"BE graduate\", \n",
    "  \"marks\":[\n",
    "    {\"key\":\"Analytics\",\"value\":73},\n",
    "    {\"key\":\"Dynamics\",\"value\":80}\n",
    "    ]}\n",
    "{\n",
    "  \"name\":\"Sivakumar\", \n",
    "  \"grade\":\"high school\", \n",
    "  \"marks\":[\n",
    "    {\"key\":\"computer\",\"value\":69}, \n",
    "    {\"key\":\"English\",\"value\":64},\n",
    "    {\"key\":\"Maths\",\"value\":90}\n",
    "    ]}"
   ]
  },
  {
   "cell_type": "code",
   "execution_count": 0,
   "metadata": {
    "application/vnd.databricks.v1+cell": {
     "cellMetadata": {
      "byteLimit": 2048000,
      "rowLimit": 10000
     },
     "inputWidgets": {},
     "nuid": "dab9f1d9-3edb-4d6f-9d6f-6c4b0e02d568",
     "showTitle": false,
     "tableResultSettingsMap": {},
     "title": ""
    }
   },
   "outputs": [
    {
     "output_type": "display_data",
     "data": {
      "text/html": [
       "<style scoped>\n",
       "  .table-result-container {\n",
       "    max-height: 300px;\n",
       "    overflow: auto;\n",
       "  }\n",
       "  table, th, td {\n",
       "    border: 1px solid black;\n",
       "    border-collapse: collapse;\n",
       "  }\n",
       "  th, td {\n",
       "    padding: 5px;\n",
       "  }\n",
       "  th {\n",
       "    text-align: left;\n",
       "  }\n",
       "</style><div class='table-result-container'><table class='table-result'><thead style='background-color: white'><tr><th>path</th><th>name</th><th>size</th><th>modificationTime</th></tr></thead><tbody><tr><td>dbfs:/FileStore/shared_uploads/azar.s91@gmail.com/keyTest.json</td><td>keyTest.json</td><td>402</td><td>1707646887000</td></tr></tbody></table></div>"
      ]
     },
     "metadata": {
      "application/vnd.databricks.v1+output": {
       "addedWidgets": {},
       "aggData": [],
       "aggError": "",
       "aggOverflow": false,
       "aggSchema": [],
       "aggSeriesLimitReached": false,
       "aggType": "",
       "arguments": {},
       "columnCustomDisplayInfos": {},
       "data": [
        [
         "dbfs:/FileStore/shared_uploads/azar.s91@gmail.com/keyTest.json",
         "keyTest.json",
         402,
         1707646887000
        ]
       ],
       "datasetInfos": [],
       "dbfsResultPath": null,
       "isJsonSchema": true,
       "metadata": {
        "isDbfsCommandResult": false
       },
       "overflow": false,
       "plotOptions": {
        "customPlotOptions": {},
        "displayType": "table",
        "pivotAggregation": null,
        "pivotColumns": null,
        "xColumns": null,
        "yColumns": null
       },
       "removedWidgets": [],
       "schema": [
        {
         "metadata": "{}",
         "name": "path",
         "type": "\"string\""
        },
        {
         "metadata": "{}",
         "name": "name",
         "type": "\"string\""
        },
        {
         "metadata": "{}",
         "name": "size",
         "type": "\"long\""
        },
        {
         "metadata": "{}",
         "name": "modificationTime",
         "type": "\"long\""
        }
       ],
       "type": "table"
      }
     },
     "output_type": "display_data"
    }
   ],
   "source": [
    "%fs ls dbfs:/FileStore/shared_uploads/azar.s91@gmail.com/keyTest.json"
   ]
  },
  {
   "cell_type": "code",
   "execution_count": 0,
   "metadata": {
    "application/vnd.databricks.v1+cell": {
     "cellMetadata": {
      "byteLimit": 2048000,
      "rowLimit": 10000
     },
     "inputWidgets": {},
     "nuid": "4f4b629c-b8dd-4535-8085-890f0c400a60",
     "showTitle": false,
     "tableResultSettingsMap": {},
     "title": ""
    }
   },
   "outputs": [
    {
     "output_type": "display_data",
     "data": {
      "text/html": [
       "<style scoped>\n",
       "  .ansiout {\n",
       "    display: block;\n",
       "    unicode-bidi: embed;\n",
       "    white-space: pre-wrap;\n",
       "    word-wrap: break-word;\n",
       "    word-break: break-all;\n",
       "    font-family: \"Menlo\", \"Monaco\", \"Consolas\", \"Ubuntu Mono\", \"Source Code Pro\", monospace;\n",
       "    font-size: 13px;\n",
       "    color: #555;\n",
       "    margin-left: 4px;\n",
       "    line-height: 19px;\n",
       "  }\n",
       "</style>\n",
       "<div class=\"ansiout\">{&quot;name&quot;:&quot;azarudeen&quot;, &quot;grade&quot;:&quot;high school&quot;, &quot;marks&quot;:[{&quot;key&quot;:&quot;Science&quot;,&quot;value&quot;:88},  {&quot;key&quot;:&quot;English&quot;,&quot;value&quot;:74},{&quot;key&quot;:&quot;Maths&quot;,&quot;value&quot;:100}]}\r\n",
       "{&quot;name&quot;:&quot;karthick&quot;,  &quot;grade&quot;:&quot;BE graduate&quot;, &quot;marks&quot;:[{&quot;key&quot;:&quot;Analytics&quot;,&quot;value&quot;:73},{&quot;key&quot;:&quot;Dynamics&quot;,&quot;value&quot;:80}]}\r\n",
       "{&quot;name&quot;:&quot;Sivakumar&quot;, &quot;grade&quot;:&quot;high school&quot;, &quot;marks&quot;:[{&quot;key&quot;:&quot;computer&quot;,&quot;value&quot;:69}, {&quot;key&quot;:&quot;English&quot;,&quot;value&quot;:64},{&quot;key&quot;:&quot;Maths&quot;,&quot;value&quot;:90}]}\n",
       "</div>"
      ]
     },
     "metadata": {
      "application/vnd.databricks.v1+output": {
       "addedWidgets": {},
       "arguments": {},
       "data": "<div class=\"ansiout\">{&quot;name&quot;:&quot;azarudeen&quot;, &quot;grade&quot;:&quot;high school&quot;, &quot;marks&quot;:[{&quot;key&quot;:&quot;Science&quot;,&quot;value&quot;:88},  {&quot;key&quot;:&quot;English&quot;,&quot;value&quot;:74},{&quot;key&quot;:&quot;Maths&quot;,&quot;value&quot;:100}]}\r\n{&quot;name&quot;:&quot;karthick&quot;,  &quot;grade&quot;:&quot;BE graduate&quot;, &quot;marks&quot;:[{&quot;key&quot;:&quot;Analytics&quot;,&quot;value&quot;:73},{&quot;key&quot;:&quot;Dynamics&quot;,&quot;value&quot;:80}]}\r\n{&quot;name&quot;:&quot;Sivakumar&quot;, &quot;grade&quot;:&quot;high school&quot;, &quot;marks&quot;:[{&quot;key&quot;:&quot;computer&quot;,&quot;value&quot;:69}, {&quot;key&quot;:&quot;English&quot;,&quot;value&quot;:64},{&quot;key&quot;:&quot;Maths&quot;,&quot;value&quot;:90}]}\n</div>",
       "datasetInfos": [],
       "metadata": {
        "isDbfsCommandResult": false
       },
       "removedWidgets": [],
       "type": "html"
      }
     },
     "output_type": "display_data"
    }
   ],
   "source": [
    "%fs head dbfs:/FileStore/shared_uploads/azar.s91@gmail.com/keyTest.json"
   ]
  },
  {
   "cell_type": "code",
   "execution_count": 0,
   "metadata": {
    "application/vnd.databricks.v1+cell": {
     "cellMetadata": {
      "byteLimit": 2048000,
      "rowLimit": 10000
     },
     "inputWidgets": {},
     "nuid": "68c9d6dc-7599-4fda-8bed-df35f81fd0ac",
     "showTitle": true,
     "tableResultSettingsMap": {},
     "title": "Initial steps to read JSON as Spark Dataframe"
    }
   },
   "outputs": [
    {
     "output_type": "display_data",
     "data": {
      "text/html": [
       "<style scoped>\n",
       "  .table-result-container {\n",
       "    max-height: 300px;\n",
       "    overflow: auto;\n",
       "  }\n",
       "  table, th, td {\n",
       "    border: 1px solid black;\n",
       "    border-collapse: collapse;\n",
       "  }\n",
       "  th, td {\n",
       "    padding: 5px;\n",
       "  }\n",
       "  th {\n",
       "    text-align: left;\n",
       "  }\n",
       "</style><div class='table-result-container'><table class='table-result'><thead style='background-color: white'><tr><th>grade</th><th>marks</th><th>name</th></tr></thead><tbody><tr><td>high school</td><td>List(List(Science, 88), List(English, 74), List(Maths, 100))</td><td>azarudeen</td></tr><tr><td>BE graduate</td><td>List(List(Analytics, 73), List(Dynamics, 80))</td><td>karthick</td></tr><tr><td>high school</td><td>List(List(computer, 69), List(English, 64), List(Maths, 90))</td><td>Sivakumar</td></tr></tbody></table></div>"
      ]
     },
     "metadata": {
      "application/vnd.databricks.v1+output": {
       "addedWidgets": {},
       "aggData": [],
       "aggError": "",
       "aggOverflow": false,
       "aggSchema": [],
       "aggSeriesLimitReached": false,
       "aggType": "",
       "arguments": {},
       "columnCustomDisplayInfos": {},
       "data": [
        [
         "high school",
         [
          [
           "Science",
           88
          ],
          [
           "English",
           74
          ],
          [
           "Maths",
           100
          ]
         ],
         "azarudeen"
        ],
        [
         "BE graduate",
         [
          [
           "Analytics",
           73
          ],
          [
           "Dynamics",
           80
          ]
         ],
         "karthick"
        ],
        [
         "high school",
         [
          [
           "computer",
           69
          ],
          [
           "English",
           64
          ],
          [
           "Maths",
           90
          ]
         ],
         "Sivakumar"
        ]
       ],
       "datasetInfos": [],
       "dbfsResultPath": null,
       "isJsonSchema": true,
       "metadata": {},
       "overflow": false,
       "plotOptions": {
        "customPlotOptions": {},
        "displayType": "table",
        "pivotAggregation": null,
        "pivotColumns": null,
        "xColumns": null,
        "yColumns": null
       },
       "removedWidgets": [],
       "schema": [
        {
         "metadata": "{}",
         "name": "grade",
         "type": "\"string\""
        },
        {
         "metadata": "{}",
         "name": "marks",
         "type": "{\"type\":\"array\",\"elementType\":{\"type\":\"struct\",\"fields\":[{\"name\":\"key\",\"type\":\"string\",\"nullable\":true,\"metadata\":{}},{\"name\":\"value\",\"type\":\"long\",\"nullable\":true,\"metadata\":{}}]},\"containsNull\":true}"
        },
        {
         "metadata": "{}",
         "name": "name",
         "type": "\"string\""
        }
       ],
       "type": "table"
      }
     },
     "output_type": "display_data"
    }
   ],
   "source": [
    "in_path=\"dbfs:/FileStore/shared_uploads/azar.s91@gmail.com/keyTest.json\"\n",
    "df = spark.read.option(\"multiLine\",False).json(in_path)\n",
    "display(df)"
   ]
  },
  {
   "cell_type": "markdown",
   "metadata": {
    "application/vnd.databricks.v1+cell": {
     "cellMetadata": {
      "byteLimit": 2048000,
      "rowLimit": 10000
     },
     "inputWidgets": {},
     "nuid": "3e045e02-3a20-4912-8345-63c6543c10ed",
     "showTitle": false,
     "tableResultSettingsMap": {},
     "title": ""
    }
   },
   "source": [
    "\n",
    "## Method - 1: Use Explode and Pivot \n",
    "\n",
    "### Steps\n",
    "  1) ```Explode the given list;```\n",
    "  2) ```Expand the out to multiple column;```\n",
    "  3) ```Pivot on Key and agg on value;```"
   ]
  },
  {
   "cell_type": "code",
   "execution_count": 0,
   "metadata": {
    "application/vnd.databricks.v1+cell": {
     "cellMetadata": {
      "byteLimit": 2048000,
      "rowLimit": 10000
     },
     "inputWidgets": {},
     "nuid": "2118036e-65ed-4fb4-8136-f1990d2f1f5e",
     "showTitle": false,
     "tableResultSettingsMap": {},
     "title": ""
    }
   },
   "outputs": [
    {
     "output_type": "display_data",
     "data": {
      "text/html": [
       "<style scoped>\n",
       "  .table-result-container {\n",
       "    max-height: 300px;\n",
       "    overflow: auto;\n",
       "  }\n",
       "  table, th, td {\n",
       "    border: 1px solid black;\n",
       "    border-collapse: collapse;\n",
       "  }\n",
       "  th, td {\n",
       "    padding: 5px;\n",
       "  }\n",
       "  th {\n",
       "    text-align: left;\n",
       "  }\n",
       "</style><div class='table-result-container'><table class='table-result'><thead style='background-color: white'><tr><th>name</th><th>grade</th><th>Analytics</th><th>Dynamics</th><th>English</th><th>Maths</th><th>Science</th><th>computer</th></tr></thead><tbody><tr><td>Sivakumar</td><td>high school</td><td>null</td><td>null</td><td>64</td><td>90</td><td>null</td><td>69</td></tr><tr><td>azarudeen</td><td>high school</td><td>null</td><td>null</td><td>74</td><td>100</td><td>88</td><td>null</td></tr><tr><td>karthick</td><td>BE graduate</td><td>73</td><td>80</td><td>null</td><td>null</td><td>null</td><td>null</td></tr></tbody></table></div>"
      ]
     },
     "metadata": {
      "application/vnd.databricks.v1+output": {
       "addedWidgets": {},
       "aggData": [],
       "aggError": "",
       "aggOverflow": false,
       "aggSchema": [],
       "aggSeriesLimitReached": false,
       "aggType": "",
       "arguments": {},
       "columnCustomDisplayInfos": {},
       "data": [
        [
         "Sivakumar",
         "high school",
         null,
         null,
         64,
         90,
         null,
         69
        ],
        [
         "azarudeen",
         "high school",
         null,
         null,
         74,
         100,
         88,
         null
        ],
        [
         "karthick",
         "BE graduate",
         73,
         80,
         null,
         null,
         null,
         null
        ]
       ],
       "datasetInfos": [],
       "dbfsResultPath": null,
       "isJsonSchema": true,
       "metadata": {},
       "overflow": false,
       "plotOptions": {
        "customPlotOptions": {},
        "displayType": "table",
        "pivotAggregation": null,
        "pivotColumns": null,
        "xColumns": null,
        "yColumns": null
       },
       "removedWidgets": [],
       "schema": [
        {
         "metadata": "{}",
         "name": "name",
         "type": "\"string\""
        },
        {
         "metadata": "{}",
         "name": "grade",
         "type": "\"string\""
        },
        {
         "metadata": "{}",
         "name": "Analytics",
         "type": "\"long\""
        },
        {
         "metadata": "{}",
         "name": "Dynamics",
         "type": "\"long\""
        },
        {
         "metadata": "{}",
         "name": "English",
         "type": "\"long\""
        },
        {
         "metadata": "{}",
         "name": "Maths",
         "type": "\"long\""
        },
        {
         "metadata": "{}",
         "name": "Science",
         "type": "\"long\""
        },
        {
         "metadata": "{}",
         "name": "computer",
         "type": "\"long\""
        }
       ],
       "type": "table"
      }
     },
     "output_type": "display_data"
    }
   ],
   "source": [
    "from pyspark.sql.functions import explode_outer,first\n",
    "\n",
    "(\n",
    "  # step 1 - Explode the Marks column to convert single record to multiple record \n",
    "  df.withColumn(\"json_key_val\",explode_outer(\"marks\"))\n",
    "    \n",
    "    # Step 2 - Expand the struct column created above to split to  multiple cols\n",
    "    .select(\"*\",\"json_key_val.*\")\n",
    "\n",
    "    # Step 3 - Pivot Key col and agg on value field\n",
    "    .groupBy(\"name\",\"grade\")\n",
    "    .pivot(\"key\")\n",
    "    .agg(first(\"value\"))\n",
    "\n",
    "    # Step 4 - Drop unnecessary fields\n",
    "    .drop(\"json_key_val\",\"marks\")\n",
    "\n",
    ").display()"
   ]
  },
  {
   "cell_type": "markdown",
   "metadata": {
    "application/vnd.databricks.v1+cell": {
     "cellMetadata": {},
     "inputWidgets": {},
     "nuid": "aa5a73f5-e79a-42b6-b0a9-188057272a7c",
     "showTitle": false,
     "tableResultSettingsMap": {},
     "title": ""
    }
   },
   "source": [
    "\n",
    "## Method - 2: Use Map_From_Array and explode\n",
    "\n",
    "### Steps\n",
    "  1) ```Get list of key columns and values columns seperated;```\n",
    "  2) ```Use Map From Array and pass key and value col to get MapType;```\n",
    "  3) ```Create list of columns in the key field;```\n",
    "  4) ```Select the fields required;```"
   ]
  },
  {
   "cell_type": "code",
   "execution_count": 0,
   "metadata": {
    "application/vnd.databricks.v1+cell": {
     "cellMetadata": {
      "byteLimit": 2048000,
      "rowLimit": 10000
     },
     "inputWidgets": {},
     "nuid": "220d7d2f-83cb-4453-bbbf-3837748dd97a",
     "showTitle": false,
     "tableResultSettingsMap": {},
     "title": ""
    }
   },
   "outputs": [
    {
     "output_type": "display_data",
     "data": {
      "text/html": [
       "<style scoped>\n",
       "  .table-result-container {\n",
       "    max-height: 300px;\n",
       "    overflow: auto;\n",
       "  }\n",
       "  table, th, td {\n",
       "    border: 1px solid black;\n",
       "    border-collapse: collapse;\n",
       "  }\n",
       "  th, td {\n",
       "    padding: 5px;\n",
       "  }\n",
       "  th {\n",
       "    text-align: left;\n",
       "  }\n",
       "</style><div class='table-result-container'><table class='table-result'><thead style='background-color: white'><tr><th>name</th><th>grade</th><th>Science</th><th>Dynamics</th><th>English</th><th>Analytics</th><th>computer</th><th>Maths</th></tr></thead><tbody><tr><td>azarudeen</td><td>high school</td><td>88</td><td>null</td><td>74</td><td>null</td><td>null</td><td>100</td></tr><tr><td>karthick</td><td>BE graduate</td><td>null</td><td>80</td><td>null</td><td>73</td><td>null</td><td>null</td></tr><tr><td>Sivakumar</td><td>high school</td><td>null</td><td>null</td><td>64</td><td>null</td><td>69</td><td>90</td></tr></tbody></table></div>"
      ]
     },
     "metadata": {
      "application/vnd.databricks.v1+output": {
       "addedWidgets": {},
       "aggData": [],
       "aggError": "",
       "aggOverflow": false,
       "aggSchema": [],
       "aggSeriesLimitReached": false,
       "aggType": "",
       "arguments": {},
       "columnCustomDisplayInfos": {},
       "data": [
        [
         "azarudeen",
         "high school",
         88,
         null,
         74,
         null,
         null,
         100
        ],
        [
         "karthick",
         "BE graduate",
         null,
         80,
         null,
         73,
         null,
         null
        ],
        [
         "Sivakumar",
         "high school",
         null,
         null,
         64,
         null,
         69,
         90
        ]
       ],
       "datasetInfos": [],
       "dbfsResultPath": null,
       "isJsonSchema": true,
       "metadata": {},
       "overflow": false,
       "plotOptions": {
        "customPlotOptions": {},
        "displayType": "table",
        "pivotAggregation": null,
        "pivotColumns": null,
        "xColumns": null,
        "yColumns": null
       },
       "removedWidgets": [],
       "schema": [
        {
         "metadata": "{}",
         "name": "name",
         "type": "\"string\""
        },
        {
         "metadata": "{}",
         "name": "grade",
         "type": "\"string\""
        },
        {
         "metadata": "{}",
         "name": "Science",
         "type": "\"long\""
        },
        {
         "metadata": "{}",
         "name": "Dynamics",
         "type": "\"long\""
        },
        {
         "metadata": "{}",
         "name": "English",
         "type": "\"long\""
        },
        {
         "metadata": "{}",
         "name": "Analytics",
         "type": "\"long\""
        },
        {
         "metadata": "{}",
         "name": "computer",
         "type": "\"long\""
        },
        {
         "metadata": "{}",
         "name": "Maths",
         "type": "\"long\""
        }
       ],
       "type": "table"
      }
     },
     "output_type": "display_data"
    }
   ],
   "source": [
    "from pyspark.sql.functions import col,map_from_arrays,explode,coalesce,expr,lower\n",
    "\n",
    "mappedDF=(\n",
    "     # Step 1 - Get Key/Values from the Array of Key value pairs\n",
    "  df.select(\"*\"\n",
    "            ,col(\"marks\").getField(\"key\").alias(\"event_keys\")\n",
    "            ,col(\"marks\").getField(\"value\").alias(\"event_values\")\n",
    "           )\n",
    "  \n",
    "     # Step 2 - Use Map from Array function to form JSON as we expect \n",
    "    .select(\"*\"\n",
    "            ,map_from_arrays(expr(\"transform(event_keys, x -> lower(x))\"), col(\"event_values\")).alias(\"event_col\")\n",
    "           )\n",
    "    .drop(\"marks\")\n",
    "\n",
    ")\n",
    "\n",
    "# Step 3 - Get all the key columns to select all cols\n",
    "event_keysDF = mappedDF.select(explode(\"event_keys\")).distinct()\n",
    "\n",
    "event_key_col_list=[]\n",
    "for x in event_keysDF.collect():\n",
    "  event_key_col_list.append(col('event_col.'+x[0].lower()).alias(x[0]))\n",
    "\n",
    "#Step 4 - Select all the required columns from final Mapped DF\n",
    "mappedDF.select(\"name\",\"grade\",*event_key_col_list).display()"
   ]
  },
  {
   "cell_type": "code",
   "execution_count": 0,
   "metadata": {
    "application/vnd.databricks.v1+cell": {
     "cellMetadata": {
      "byteLimit": 2048000,
      "rowLimit": 10000
     },
     "inputWidgets": {},
     "nuid": "3fd66dff-c701-4127-95fa-abf8c9a8d1aa",
     "showTitle": false,
     "tableResultSettingsMap": {},
     "title": ""
    }
   },
   "outputs": [],
   "source": [
    "mappedDF.select(explode(\"event_keys\")).display()"
   ]
  },
  {
   "cell_type": "code",
   "execution_count": 0,
   "metadata": {
    "application/vnd.databricks.v1+cell": {
     "cellMetadata": {
      "byteLimit": 2048000,
      "rowLimit": 10000
     },
     "inputWidgets": {},
     "nuid": "e8daf61b-fa0c-4bc8-ba68-977b7778f802",
     "showTitle": false,
     "tableResultSettingsMap": {},
     "title": ""
    }
   },
   "outputs": [
    {
     "output_type": "display_data",
     "data": {
      "text/html": [
       "<style scoped>\n",
       "  .table-result-container {\n",
       "    max-height: 300px;\n",
       "    overflow: auto;\n",
       "  }\n",
       "  table, th, td {\n",
       "    border: 1px solid black;\n",
       "    border-collapse: collapse;\n",
       "  }\n",
       "  th, td {\n",
       "    padding: 5px;\n",
       "  }\n",
       "  th {\n",
       "    text-align: left;\n",
       "  }\n",
       "</style><div class='table-result-container'><table class='table-result'><thead style='background-color: white'><tr><th>grade</th><th>name</th><th>event_keys</th><th>event_values</th><th>event_col</th></tr></thead><tbody><tr><td>high school</td><td>azarudeen</td><td>List(Science, English, Maths)</td><td>List(88, 74, 100)</td><td>Map(science -> 88, english -> 74, maths -> 100)</td></tr><tr><td>BE graduate</td><td>karthick</td><td>List(Analytics, Dynamics)</td><td>List(73, 80)</td><td>Map(analytics -> 73, dynamics -> 80)</td></tr><tr><td>high school</td><td>Sivakumar</td><td>List(computer, English, Maths)</td><td>List(69, 64, 90)</td><td>Map(computer -> 69, english -> 64, maths -> 90)</td></tr></tbody></table></div>"
      ]
     },
     "metadata": {
      "application/vnd.databricks.v1+output": {
       "addedWidgets": {},
       "aggData": [],
       "aggError": "",
       "aggOverflow": false,
       "aggSchema": [],
       "aggSeriesLimitReached": false,
       "aggType": "",
       "arguments": {},
       "columnCustomDisplayInfos": {},
       "data": [
        [
         "high school",
         "azarudeen",
         [
          "Science",
          "English",
          "Maths"
         ],
         [
          88,
          74,
          100
         ],
         {
          "english": 74,
          "maths": 100,
          "science": 88
         }
        ],
        [
         "BE graduate",
         "karthick",
         [
          "Analytics",
          "Dynamics"
         ],
         [
          73,
          80
         ],
         {
          "analytics": 73,
          "dynamics": 80
         }
        ],
        [
         "high school",
         "Sivakumar",
         [
          "computer",
          "English",
          "Maths"
         ],
         [
          69,
          64,
          90
         ],
         {
          "computer": 69,
          "english": 64,
          "maths": 90
         }
        ]
       ],
       "datasetInfos": [],
       "dbfsResultPath": null,
       "isJsonSchema": true,
       "metadata": {},
       "overflow": false,
       "plotOptions": {
        "customPlotOptions": {},
        "displayType": "table",
        "pivotAggregation": null,
        "pivotColumns": null,
        "xColumns": null,
        "yColumns": null
       },
       "removedWidgets": [],
       "schema": [
        {
         "metadata": "{}",
         "name": "grade",
         "type": "\"string\""
        },
        {
         "metadata": "{}",
         "name": "name",
         "type": "\"string\""
        },
        {
         "metadata": "{}",
         "name": "event_keys",
         "type": "{\"type\":\"array\",\"elementType\":\"string\",\"containsNull\":true}"
        },
        {
         "metadata": "{}",
         "name": "event_values",
         "type": "{\"type\":\"array\",\"elementType\":\"long\",\"containsNull\":true}"
        },
        {
         "metadata": "{}",
         "name": "event_col",
         "type": "{\"type\":\"map\",\"keyType\":\"string\",\"valueType\":\"long\",\"valueContainsNull\":true}"
        }
       ],
       "type": "table"
      }
     },
     "output_type": "display_data"
    }
   ],
   "source": [
    "mappedDF.display()"
   ]
  },
  {
   "cell_type": "code",
   "execution_count": 0,
   "metadata": {
    "application/vnd.databricks.v1+cell": {
     "cellMetadata": {},
     "inputWidgets": {},
     "nuid": "4a68ab96-8338-4c15-bf65-4d9845e12e79",
     "showTitle": false,
     "tableResultSettingsMap": {},
     "title": ""
    }
   },
   "outputs": [],
   "source": []
  }
 ],
 "metadata": {
  "application/vnd.databricks.v1+notebook": {
   "computePreferences": null,
   "dashboards": [],
   "environmentMetadata": null,
   "inputWidgetPreferences": null,
   "language": "python",
   "notebookMetadata": {
    "mostRecentlyExecutedCommandWithImplicitDF": {
     "commandId": 666255105412211,
     "dataframes": [
      "_sqldf"
     ]
    },
    "pythonIndentUnit": 2
   },
   "notebookName": "df_key_value_scenario",
   "widgets": {}
  },
  "language_info": {
   "name": "python"
  }
 },
 "nbformat": 4,
 "nbformat_minor": 0
}