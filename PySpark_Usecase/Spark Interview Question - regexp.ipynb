{
 "cells": [
  {
   "cell_type": "markdown",
   "metadata": {
    "application/vnd.databricks.v1+cell": {
     "cellMetadata": {},
     "inputWidgets": {},
     "nuid": "7a99a7fe-8eed-4907-930f-5ff167093923",
     "showTitle": false,
     "tableResultSettingsMap": {},
     "title": ""
    }
   },
   "source": [
    "## Spark Interview Question\n",
    "\n",
    "**Question:**  \n",
    "Given a DataFrame containing customer reports, how would you extract 10-digit mobile numbers from the text using Databricks?\n",
    "\n",
    "### Approach:\n",
    "- **Method 1:** Traditional Spark Approach\n",
    "- **Method 2:** AI Approach\n",
    "\n",
    "\n",
    "----------------------------------------------------------------------------------------------------------\n",
    "**Input Data Example:**\n",
    "\n",
    "| customer_id | report_text                                                      |\n",
    "|-------------|------------------------------------------------------------------|\n",
    "| 1           | \"Customer called from 9876543210 regarding billing issue.\"       |\n",
    "| 2           | \"Contact number: 9123456789. Requested account update.\"          |\n",
    "| 3           | \"No mobile number provided in this report.\"                      |\n",
    "| 4           | \"Reach me at 9988776655 for further details.\"                    |\n",
    "| 5           | \"Alternate contact: 9001122334, main: 8002233445.\"               |"
   ]
  },
  {
   "cell_type": "markdown",
   "metadata": {
    "application/vnd.databricks.v1+cell": {
     "cellMetadata": {},
     "inputWidgets": {},
     "nuid": "c484c23b-fa58-4951-95dd-901ea41be10f",
     "showTitle": false,
     "tableResultSettingsMap": {},
     "title": ""
    }
   },
   "source": [
    "# Create Input DF"
   ]
  },
  {
   "cell_type": "code",
   "execution_count": 0,
   "metadata": {
    "application/vnd.databricks.v1+cell": {
     "cellMetadata": {
      "byteLimit": 2048000,
      "rowLimit": 10000
     },
     "inputWidgets": {},
     "nuid": "e15337bd-9898-456f-8c44-797ccb7b9b09",
     "showTitle": false,
     "tableResultSettingsMap": {},
     "title": ""
    }
   },
   "outputs": [
    {
     "output_type": "display_data",
     "data": {
      "text/html": [
       "<style scoped>\n",
       "  .table-result-container {\n",
       "    max-height: 300px;\n",
       "    overflow: auto;\n",
       "  }\n",
       "  table, th, td {\n",
       "    border: 1px solid black;\n",
       "    border-collapse: collapse;\n",
       "  }\n",
       "  th, td {\n",
       "    padding: 5px;\n",
       "  }\n",
       "  th {\n",
       "    text-align: left;\n",
       "  }\n",
       "</style><div class='table-result-container'><table class='table-result'><thead style='background-color: white'><tr><th>Customer report</th></tr></thead><tbody><tr><td>i have a issue with my billing. My mob number is 7864321909</td></tr><tr><td>Billing issue identified in 2389110328</td></tr><tr><td>number 4563210099 have internet connection error</td></tr><tr><td>No Mobile Number provided</td></tr><tr><td>My main number is 8002233445. Alternate number is 9001122334</td></tr></tbody></table></div>"
      ]
     },
     "metadata": {
      "application/vnd.databricks.v1+output": {
       "addedWidgets": {},
       "aggData": [],
       "aggError": "",
       "aggOverflow": false,
       "aggSchema": [],
       "aggSeriesLimitReached": false,
       "aggType": "",
       "arguments": {},
       "columnCustomDisplayInfos": {},
       "data": [
        [
         "i have a issue with my billing. My mob number is 7864321909"
        ],
        [
         "Billing issue identified in 2389110328"
        ],
        [
         "number 4563210099 have internet connection error"
        ],
        [
         "No Mobile Number provided"
        ],
        [
         "My main number is 8002233445. Alternate number is 9001122334"
        ]
       ],
       "datasetInfos": [],
       "dbfsResultPath": null,
       "isJsonSchema": true,
       "metadata": {},
       "overflow": false,
       "plotOptions": {
        "customPlotOptions": {},
        "displayType": "table",
        "pivotAggregation": null,
        "pivotColumns": null,
        "xColumns": null,
        "yColumns": null
       },
       "removedWidgets": [],
       "schema": [
        {
         "metadata": "{}",
         "name": "Customer report",
         "type": "\"string\""
        }
       ],
       "type": "table"
      }
     },
     "output_type": "display_data"
    }
   ],
   "source": [
    "data = [\n",
    "    (\"i have a issue with my billing. My mob number is 7864321909\"),\n",
    "    (\"Billing issue identified in 2389110328\"),\n",
    "    (\"number 4563210099 have internet connection error\"),\n",
    "    (\"No Mobile Number provided\"),\n",
    "    (\"My main number is 8002233445. Alternate number is 9001122334\")\n",
    "\n",
    "]\n",
    "\n",
    "df = spark.createDataFrame(data, [\"Customer report\"])\n",
    "display(df)"
   ]
  },
  {
   "cell_type": "markdown",
   "metadata": {
    "application/vnd.databricks.v1+cell": {
     "cellMetadata": {},
     "inputWidgets": {},
     "nuid": "0f2a7b89-ab03-4c1a-86da-6f891b795a92",
     "showTitle": false,
     "tableResultSettingsMap": {},
     "title": ""
    }
   },
   "source": [
    "# Traditional Approach"
   ]
  },
  {
   "cell_type": "code",
   "execution_count": 0,
   "metadata": {
    "application/vnd.databricks.v1+cell": {
     "cellMetadata": {
      "byteLimit": 2048000,
      "rowLimit": 10000
     },
     "inputWidgets": {},
     "nuid": "244e29b6-6506-4dd0-8dec-31698b06a815",
     "showTitle": false,
     "tableResultSettingsMap": {},
     "title": ""
    }
   },
   "outputs": [
    {
     "output_type": "display_data",
     "data": {
      "text/html": [
       "<style scoped>\n",
       "  .table-result-container {\n",
       "    max-height: 300px;\n",
       "    overflow: auto;\n",
       "  }\n",
       "  table, th, td {\n",
       "    border: 1px solid black;\n",
       "    border-collapse: collapse;\n",
       "  }\n",
       "  th, td {\n",
       "    padding: 5px;\n",
       "  }\n",
       "  th {\n",
       "    text-align: left;\n",
       "  }\n",
       "</style><div class='table-result-container'><table class='table-result'><thead style='background-color: white'><tr><th>Customer report</th><th>Mobile_Number_Regex</th></tr></thead><tbody><tr><td>i have a issue with my billing. My mob number is 7864321909</td><td>7864321909</td></tr><tr><td>Billing issue identified in 2389110328</td><td>2389110328</td></tr><tr><td>number 4563210099 have internet connection error</td><td>4563210099</td></tr><tr><td>No Mobile Number provided</td><td></td></tr><tr><td>My main number is 8002233445. Alternate number is 9001122334</td><td>8002233445</td></tr></tbody></table></div>"
      ]
     },
     "metadata": {
      "application/vnd.databricks.v1+output": {
       "addedWidgets": {},
       "aggData": [],
       "aggError": "",
       "aggOverflow": false,
       "aggSchema": [],
       "aggSeriesLimitReached": false,
       "aggType": "",
       "arguments": {},
       "columnCustomDisplayInfos": {},
       "data": [
        [
         "i have a issue with my billing. My mob number is 7864321909",
         "7864321909"
        ],
        [
         "Billing issue identified in 2389110328",
         "2389110328"
        ],
        [
         "number 4563210099 have internet connection error",
         "4563210099"
        ],
        [
         "No Mobile Number provided",
         ""
        ],
        [
         "My main number is 8002233445. Alternate number is 9001122334",
         "8002233445"
        ]
       ],
       "datasetInfos": [],
       "dbfsResultPath": null,
       "isJsonSchema": true,
       "metadata": {},
       "overflow": false,
       "plotOptions": {
        "customPlotOptions": {},
        "displayType": "table",
        "pivotAggregation": null,
        "pivotColumns": null,
        "xColumns": null,
        "yColumns": null
       },
       "removedWidgets": [],
       "schema": [
        {
         "metadata": "{}",
         "name": "Customer report",
         "type": "\"string\""
        },
        {
         "metadata": "{}",
         "name": "Mobile_Number_Regex",
         "type": "\"string\""
        }
       ],
       "type": "table"
      }
     },
     "output_type": "display_data"
    }
   ],
   "source": [
    "# Import regex extract function\n",
    "from pyspark.sql.functions import regexp_extract\n",
    "\n",
    "# Extract mobile number from the text\n",
    "# \\b - word boundary\n",
    "# \\d{10} - 10 digits\n",
    "# \\b - word boundary\n",
    "df_with_mobile = df.withColumn(\"Mobile_Number_Regex\", regexp_extract(df[\"Customer report\"], r\"\\b\\d{10}\\b\", 0))\n",
    "\n",
    "# Display output\n",
    "display(df_with_mobile)"
   ]
  },
  {
   "cell_type": "markdown",
   "metadata": {
    "application/vnd.databricks.v1+cell": {
     "cellMetadata": {},
     "inputWidgets": {},
     "nuid": "3626b6a3-fced-4da1-972e-cd3aae932c17",
     "showTitle": false,
     "tableResultSettingsMap": {},
     "title": ""
    }
   },
   "source": [
    "# Leverage AI Functions"
   ]
  },
  {
   "cell_type": "code",
   "execution_count": 0,
   "metadata": {
    "application/vnd.databricks.v1+cell": {
     "cellMetadata": {
      "byteLimit": 2048000,
      "rowLimit": 10000
     },
     "inputWidgets": {},
     "nuid": "2e1b6e89-d138-4440-babf-71197c303fdd",
     "showTitle": false,
     "tableResultSettingsMap": {},
     "title": ""
    }
   },
   "outputs": [
    {
     "output_type": "display_data",
     "data": {
      "text/html": [
       "<style scoped>\n",
       "  .table-result-container {\n",
       "    max-height: 300px;\n",
       "    overflow: auto;\n",
       "  }\n",
       "  table, th, td {\n",
       "    border: 1px solid black;\n",
       "    border-collapse: collapse;\n",
       "  }\n",
       "  th, td {\n",
       "    padding: 5px;\n",
       "  }\n",
       "  th {\n",
       "    text-align: left;\n",
       "  }\n",
       "</style><div class='table-result-container'><table class='table-result'><thead style='background-color: white'><tr><th>Customer report</th><th>Mobile_Number_AI</th></tr></thead><tbody><tr><td>i have a issue with my billing. My mob number is 7864321909</td><td>List(7864321909)</td></tr><tr><td>Billing issue identified in 2389110328</td><td>List(2389110328)</td></tr><tr><td>number 4563210099 have internet connection error</td><td>List(4563210099)</td></tr><tr><td>No Mobile Number provided</td><td>List(null)</td></tr><tr><td>My main number is 8002233445. Alternate number is 9001122334</td><td>List(8002233445)</td></tr></tbody></table></div>"
      ]
     },
     "metadata": {
      "application/vnd.databricks.v1+output": {
       "addedWidgets": {},
       "aggData": [],
       "aggError": "",
       "aggOverflow": false,
       "aggSchema": [],
       "aggSeriesLimitReached": false,
       "aggType": "",
       "arguments": {},
       "columnCustomDisplayInfos": {},
       "data": [
        [
         "i have a issue with my billing. My mob number is 7864321909",
         [
          "7864321909"
         ]
        ],
        [
         "Billing issue identified in 2389110328",
         [
          "2389110328"
         ]
        ],
        [
         "number 4563210099 have internet connection error",
         [
          "4563210099"
         ]
        ],
        [
         "No Mobile Number provided",
         [
          null
         ]
        ],
        [
         "My main number is 8002233445. Alternate number is 9001122334",
         [
          "8002233445"
         ]
        ]
       ],
       "datasetInfos": [],
       "dbfsResultPath": null,
       "isJsonSchema": true,
       "metadata": {},
       "overflow": false,
       "plotOptions": {
        "customPlotOptions": {},
        "displayType": "table",
        "pivotAggregation": null,
        "pivotColumns": null,
        "xColumns": null,
        "yColumns": null
       },
       "removedWidgets": [],
       "schema": [
        {
         "metadata": "{}",
         "name": "Customer report",
         "type": "\"string\""
        },
        {
         "metadata": "{}",
         "name": "Mobile_Number_AI",
         "type": "{\"fields\":[{\"metadata\":{},\"name\":\"mobile number\",\"nullable\":true,\"type\":\"string\"}],\"type\":\"struct\"}"
        }
       ],
       "type": "table"
      }
     },
     "output_type": "display_data"
    }
   ],
   "source": [
    "# Create a Temporary DF View\n",
    "df.createOrReplaceTempView(\"customer_reports\")\n",
    "\n",
    "# Sql query to extract mobile number using AI function\n",
    "df_with_mobile = spark.sql(\"\"\"\n",
    "SELECT\n",
    "  *,\n",
    "  ai_extract(`Customer report`, array(\"mobile number\")) AS Mobile_Number_AI\n",
    "FROM\n",
    "  customer_reports\n",
    "\"\"\")\n",
    "\n",
    "# Display output\n",
    "display(df_with_mobile)"
   ]
  },
  {
   "cell_type": "markdown",
   "metadata": {
    "application/vnd.databricks.v1+cell": {
     "cellMetadata": {},
     "inputWidgets": {},
     "nuid": "2f8c0597-85de-4151-9d62-853ccee04065",
     "showTitle": false,
     "tableResultSettingsMap": {},
     "title": ""
    }
   },
   "source": [
    "# Can we include Alternate Number ?"
   ]
  },
  {
   "cell_type": "code",
   "execution_count": 0,
   "metadata": {
    "application/vnd.databricks.v1+cell": {
     "cellMetadata": {
      "byteLimit": 2048000,
      "rowLimit": 10000
     },
     "inputWidgets": {},
     "nuid": "0efa0aa8-8486-449a-8fa0-af1bed7dab73",
     "showTitle": false,
     "tableResultSettingsMap": {},
     "title": ""
    }
   },
   "outputs": [
    {
     "output_type": "display_data",
     "data": {
      "text/html": [
       "<style scoped>\n",
       "  .table-result-container {\n",
       "    max-height: 300px;\n",
       "    overflow: auto;\n",
       "  }\n",
       "  table, th, td {\n",
       "    border: 1px solid black;\n",
       "    border-collapse: collapse;\n",
       "  }\n",
       "  th, td {\n",
       "    padding: 5px;\n",
       "  }\n",
       "  th {\n",
       "    text-align: left;\n",
       "  }\n",
       "</style><div class='table-result-container'><table class='table-result'><thead style='background-color: white'><tr><th>Customer report</th><th>Mobile_Number_AI</th></tr></thead><tbody><tr><td>i have a issue with my billing. My mob number is 7864321909</td><td>List(7864321909, null)</td></tr><tr><td>Billing issue identified in 2389110328</td><td>List(2389110328, null)</td></tr><tr><td>number 4563210099 have internet connection error</td><td>List(4563210099, null)</td></tr><tr><td>No Mobile Number provided</td><td>List(null, null)</td></tr><tr><td>My main number is 8002233445. Alternate number is 9001122334</td><td>List(8002233445, 9001122334)</td></tr></tbody></table></div>"
      ]
     },
     "metadata": {
      "application/vnd.databricks.v1+output": {
       "addedWidgets": {},
       "aggData": [],
       "aggError": "",
       "aggOverflow": false,
       "aggSchema": [],
       "aggSeriesLimitReached": false,
       "aggType": "",
       "arguments": {},
       "columnCustomDisplayInfos": {},
       "data": [
        [
         "i have a issue with my billing. My mob number is 7864321909",
         [
          "7864321909",
          null
         ]
        ],
        [
         "Billing issue identified in 2389110328",
         [
          "2389110328",
          null
         ]
        ],
        [
         "number 4563210099 have internet connection error",
         [
          "4563210099",
          null
         ]
        ],
        [
         "No Mobile Number provided",
         [
          null,
          null
         ]
        ],
        [
         "My main number is 8002233445. Alternate number is 9001122334",
         [
          "8002233445",
          "9001122334"
         ]
        ]
       ],
       "datasetInfos": [],
       "dbfsResultPath": null,
       "isJsonSchema": true,
       "metadata": {},
       "overflow": false,
       "plotOptions": {
        "customPlotOptions": {},
        "displayType": "table",
        "pivotAggregation": null,
        "pivotColumns": null,
        "xColumns": null,
        "yColumns": null
       },
       "removedWidgets": [],
       "schema": [
        {
         "metadata": "{}",
         "name": "Customer report",
         "type": "\"string\""
        },
        {
         "metadata": "{}",
         "name": "Mobile_Number_AI",
         "type": "{\"fields\":[{\"metadata\":{},\"name\":\"mobile number\",\"nullable\":true,\"type\":\"string\"},{\"metadata\":{},\"name\":\"alternate number\",\"nullable\":true,\"type\":\"string\"}],\"type\":\"struct\"}"
        }
       ],
       "type": "table"
      }
     },
     "output_type": "display_data"
    }
   ],
   "source": [
    "df_with_mobile = spark.sql(\"\"\"\n",
    "SELECT\n",
    "  *,\n",
    "  ai_extract(`Customer report`, array(\"mobile number\",\"alternate number\")) AS Mobile_Number_AI\n",
    "FROM\n",
    "  customer_reports\n",
    "\"\"\")\n",
    "display(df_with_mobile)"
   ]
  },
  {
   "cell_type": "code",
   "execution_count": 0,
   "metadata": {
    "application/vnd.databricks.v1+cell": {
     "cellMetadata": {},
     "inputWidgets": {},
     "nuid": "b8f59997-2792-43e9-b9cb-618537417e7e",
     "showTitle": false,
     "tableResultSettingsMap": {},
     "title": ""
    }
   },
   "outputs": [],
   "source": []
  }
 ],
 "metadata": {
  "application/vnd.databricks.v1+notebook": {
   "computePreferences": {
    "hardware": {
     "accelerator": null,
     "gpuPoolId": null,
     "memory": null
    }
   },
   "dashboards": [],
   "environmentMetadata": {
    "base_environment": "",
    "environment_version": "3"
   },
   "inputWidgetPreferences": null,
   "language": "python",
   "notebookMetadata": {
    "pythonIndentUnit": 4
   },
   "notebookName": "Spark Interview Question - regexp",
   "widgets": {}
  },
  "language_info": {
   "name": "python"
  }
 },
 "nbformat": 4,
 "nbformat_minor": 0
}