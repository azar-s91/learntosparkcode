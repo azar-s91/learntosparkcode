{
  "nbformat": 4,
  "nbformat_minor": 0,
  "metadata": {
    "colab": {
      "provenance": []
    },
    "kernelspec": {
      "name": "python3",
      "display_name": "Python 3"
    },
    "language_info": {
      "name": "python"
    }
  },
  "cells": [
    {
      "cell_type": "markdown",
      "source": [
        "# How to Use PySpark in Google Colab\n",
        "\n",
        "## Steps:\n",
        "\n",
        "- **Install pyspark**: Install the PySpark library using pip.\n",
        "- **Set up environment variables**: Configure the necessary environment variables for PySpark.\n",
        "- **Initialize sparksession**: Create a SparkSession object to start working with Spark.\n",
        "- **Verify installation**: Run a simple PySpark command to ensure everything is set up correctly."
      ],
      "metadata": {
        "id": "D3JfU_9nb1Rl"
      }
    },
    {
      "cell_type": "markdown",
      "source": [
        "# Install and download required packages"
      ],
      "metadata": {
        "id": "FBMu8EgnCuyJ"
      }
    },
    {
      "cell_type": "code",
      "execution_count": 1,
      "metadata": {
        "id": "sDUTiDbboM7x"
      },
      "outputs": [],
      "source": [
        "!apt-get install openjdk-8-jdk-headless -qq > /dev/null\n",
        "!wget -q http://archive.apache.org/dist/spark/spark-3.5.1/spark-3.5.1-bin-hadoop3.tgz\n",
        "!tar xf spark-3.5.1-bin-hadoop3.tgz\n",
        "!pip install -q findspark"
      ]
    },
    {
      "cell_type": "markdown",
      "source": [
        "# Set up environment variable"
      ],
      "metadata": {
        "id": "bVp4UqyjCL9c"
      }
    },
    {
      "cell_type": "code",
      "source": [
        "!pwd"
      ],
      "metadata": {
        "colab": {
          "base_uri": "https://localhost:8080/"
        },
        "id": "XwXR9Xi8CW7A",
        "outputId": "ba1d4101-72aa-478d-fb6e-d8e6d67b5519"
      },
      "execution_count": 3,
      "outputs": [
        {
          "output_type": "stream",
          "name": "stdout",
          "text": [
            "/content\n"
          ]
        }
      ]
    },
    {
      "cell_type": "code",
      "source": [
        "import os\n",
        "os.environ[\"JAVA_HOME\"] = \"/usr/lib/jvm/java-8-openjdk-amd64\"\n",
        "os.environ[\"SPARK_HOME\"] = \"/content/spark-3.5.1-bin-hadoop3\""
      ],
      "metadata": {
        "id": "gshOuu7Ra0BJ"
      },
      "execution_count": 4,
      "outputs": []
    },
    {
      "cell_type": "code",
      "source": [
        "!ls"
      ],
      "metadata": {
        "colab": {
          "base_uri": "https://localhost:8080/"
        },
        "id": "HUbZ-OncbAv8",
        "outputId": "a9d575a0-d902-45a3-9e26-1cf9fcb4ccca"
      },
      "execution_count": 2,
      "outputs": [
        {
          "output_type": "stream",
          "name": "stdout",
          "text": [
            "sample_data\t\t spark-3.5.1-bin-hadoop3.tgz\n",
            "spark-3.5.1-bin-hadoop3  spark-3.5.1-bin-hadoop3.tgz.1\n"
          ]
        }
      ]
    },
    {
      "cell_type": "markdown",
      "source": [
        "# Import and Setup Spark Session"
      ],
      "metadata": {
        "id": "Hh5eZAkDCc3P"
      }
    },
    {
      "cell_type": "code",
      "source": [
        "import findspark\n",
        "findspark.init()\n",
        "from pyspark.sql import SparkSession\n",
        "spark = SparkSession.builder.master(\"local[*]\").getOrCreate()\n",
        "spark.conf.set(\"spark.sql.repl.eagerEval.enabled\", True) # Property used to format output tables better\n",
        "spark"
      ],
      "metadata": {
        "colab": {
          "base_uri": "https://localhost:8080/",
          "height": 221
        },
        "id": "cD_Nx1DlbIX8",
        "outputId": "c5f336fc-9300-4ee5-c7d2-57d9d5702d64"
      },
      "execution_count": 5,
      "outputs": [
        {
          "output_type": "execute_result",
          "data": {
            "text/plain": [
              "<pyspark.sql.session.SparkSession at 0x7a66be279d60>"
            ],
            "text/html": [
              "\n",
              "            <div>\n",
              "                <p><b>SparkSession - in-memory</b></p>\n",
              "                \n",
              "        <div>\n",
              "            <p><b>SparkContext</b></p>\n",
              "\n",
              "            <p><a href=\"http://a637bb13c8ad:4040\">Spark UI</a></p>\n",
              "\n",
              "            <dl>\n",
              "              <dt>Version</dt>\n",
              "                <dd><code>v3.5.1</code></dd>\n",
              "              <dt>Master</dt>\n",
              "                <dd><code>local[*]</code></dd>\n",
              "              <dt>AppName</dt>\n",
              "                <dd><code>pyspark-shell</code></dd>\n",
              "            </dl>\n",
              "        </div>\n",
              "        \n",
              "            </div>\n",
              "        "
            ]
          },
          "metadata": {},
          "execution_count": 5
        }
      ]
    },
    {
      "cell_type": "markdown",
      "source": [
        "# Example"
      ],
      "metadata": {
        "id": "jCWJovyZCi8H"
      }
    },
    {
      "cell_type": "code",
      "source": [
        "# Create a sample DataFrame with skewed data\n",
        "from pyspark.sql.functions import rand, when\n",
        "\n",
        "df = (\n",
        "    spark.range(0, 10)\n",
        "    .withColumn(\"user_id\", (rand() * 1000).cast(\"int\"))\n",
        "    .withColumn(\"event_type\", when(rand() > 0.95, \"rare\").otherwise(\"common\"))\n",
        "    .withColumn(\"value\", rand())\n",
        ")"
      ],
      "metadata": {
        "id": "D-52rt8gbOdY"
      },
      "execution_count": 6,
      "outputs": []
    },
    {
      "cell_type": "code",
      "source": [
        "df.show()"
      ],
      "metadata": {
        "colab": {
          "base_uri": "https://localhost:8080/"
        },
        "id": "To5Yvpzvbjrl",
        "outputId": "6a358e96-1499-48b1-b608-8b3526a8af01"
      },
      "execution_count": 7,
      "outputs": [
        {
          "output_type": "stream",
          "name": "stdout",
          "text": [
            "+---+-------+----------+-------------------+\n",
            "| id|user_id|event_type|              value|\n",
            "+---+-------+----------+-------------------+\n",
            "|  0|    318|    common| 0.9733141758161218|\n",
            "|  1|    857|    common|  0.949520095259974|\n",
            "|  2|    617|    common| 0.1306696785276129|\n",
            "|  3|     59|    common|0.29992855428951526|\n",
            "|  4|    667|    common| 0.2870752916621744|\n",
            "|  5|    665|    common| 0.9361488842300535|\n",
            "|  6|    491|    common|0.06606442221355968|\n",
            "|  7|    859|    common|  0.876521488657336|\n",
            "|  8|    226|    common| 0.8361631377603518|\n",
            "|  9|    275|    common| 0.6254969578425751|\n",
            "+---+-------+----------+-------------------+\n",
            "\n"
          ]
        }
      ]
    },
    {
      "cell_type": "code",
      "source": [
        "df.limit(5)"
      ],
      "metadata": {
        "colab": {
          "base_uri": "https://localhost:8080/",
          "height": 154
        },
        "id": "sFA0MP27iv1-",
        "outputId": "67944cc6-b5c4-4dfc-e27a-1fe1fed278ab"
      },
      "execution_count": 8,
      "outputs": [
        {
          "output_type": "execute_result",
          "data": {
            "text/plain": [
              "+---+-------+----------+-------------------+\n",
              "| id|user_id|event_type|              value|\n",
              "+---+-------+----------+-------------------+\n",
              "|  0|    318|    common| 0.9733141758161218|\n",
              "|  1|    857|    common|  0.949520095259974|\n",
              "|  2|    617|    common| 0.1306696785276129|\n",
              "|  3|     59|    common|0.29992855428951526|\n",
              "|  4|    667|    common| 0.2870752916621744|\n",
              "+---+-------+----------+-------------------+"
            ],
            "text/html": [
              "<table border='1'>\n",
              "<tr><th>id</th><th>user_id</th><th>event_type</th><th>value</th></tr>\n",
              "<tr><td>0</td><td>318</td><td>common</td><td>0.9733141758161218</td></tr>\n",
              "<tr><td>1</td><td>857</td><td>common</td><td>0.949520095259974</td></tr>\n",
              "<tr><td>2</td><td>617</td><td>common</td><td>0.1306696785276129</td></tr>\n",
              "<tr><td>3</td><td>59</td><td>common</td><td>0.29992855428951526</td></tr>\n",
              "<tr><td>4</td><td>667</td><td>common</td><td>0.2870752916621744</td></tr>\n",
              "</table>\n"
            ]
          },
          "metadata": {},
          "execution_count": 8
        }
      ]
    },
    {
      "cell_type": "code",
      "source": [],
      "metadata": {
        "id": "eTqsFuFdi26V"
      },
      "execution_count": null,
      "outputs": []
    }
  ]
}